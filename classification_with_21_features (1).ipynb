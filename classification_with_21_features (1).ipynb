{
  "cells": [
    {
      "cell_type": "code",
      "execution_count": 2,
      "metadata": {
        "id": "mmhJd28ueB34"
      },
      "outputs": [],
      "source": [
        "#importing the libraries\n",
        "import numpy as np\n",
        "import matplotlib.pyplot as plt\n",
        "import pandas as pd\n",
        "import seaborn as sns\n",
        "from sklearn.model_selection import train_test_split\n",
        "import os\n",
        "from sklearn.preprocessing import StandardScaler\n",
        "from sklearn.linear_model import LogisticRegression\n",
        "import warnings\n",
        "warnings.filterwarnings(\"ignore\")"
      ]
    },
    {
      "cell_type": "code",
      "execution_count": 3,
      "metadata": {
        "colab": {
          "base_uri": "https://localhost:8080/"
        },
        "id": "pPs6l-NqeQXP",
        "outputId": "d96395f0-2b9b-4714-dc35-601064571ba8"
      },
      "outputs": [
        {
          "output_type": "stream",
          "name": "stdout",
          "text": [
            "(839, 24)\n"
          ]
        }
      ],
      "source": [
        "#importing our cancer dataset\n",
        "glioma_data = pd.read_csv('TCGA_InfoWithGrade.csv')\n",
        "print(glioma_data.shape)\n"
      ]
    },
    {
      "cell_type": "code",
      "execution_count": 4,
      "metadata": {
        "id": "nxCvsbGWeVBy",
        "colab": {
          "base_uri": "https://localhost:8080/"
        },
        "outputId": "4a86847f-eb86-4cfe-98f0-e729943ef550"
      },
      "outputs": [
        {
          "output_type": "stream",
          "name": "stdout",
          "text": [
            "(839, 21)\n",
            "(839,)\n"
          ]
        }
      ],
      "source": [
        "X = glioma_data.drop(\"Grade\", axis=1)\n",
        "y = glioma_data[\"Grade\"]\n",
        "\n",
        "drop_list1 = ['BCOR', 'CSMD3']\n",
        "X1 = X.drop(drop_list1,axis = 1 )\n",
        "\n",
        "print(X1.shape)\n",
        "print(y.shape)"
      ]
    },
    {
      "cell_type": "code",
      "execution_count": 5,
      "metadata": {
        "id": "6J0Dj4ZDfBan",
        "colab": {
          "base_uri": "https://localhost:8080/"
        },
        "outputId": "91726fbd-f831-4b48-bfd3-037509bb7768"
      },
      "outputs": [
        {
          "output_type": "stream",
          "name": "stdout",
          "text": [
            "(671, 21) (671,)\n",
            "(168, 21) (168,)\n"
          ]
        }
      ],
      "source": [
        "X_train, X_test, y_train, y_test = train_test_split(X1, y, test_size=0.2, random_state=123)\n",
        "print(X_train.shape, y_train.shape)\n",
        "print(X_test.shape, y_test.shape)"
      ]
    },
    {
      "cell_type": "code",
      "execution_count": 6,
      "metadata": {
        "id": "HtaKhoukhrZy",
        "colab": {
          "base_uri": "https://localhost:8080/"
        },
        "outputId": "6344b290-5768-4fb0-cbce-df3c29954086"
      },
      "outputs": [
        {
          "output_type": "stream",
          "name": "stdout",
          "text": [
            "(671, 21)\n"
          ]
        }
      ],
      "source": [
        "#Feature Scaling\n",
        "\n",
        "from sklearn.preprocessing import StandardScaler\n",
        "\n",
        "sc_scaler = StandardScaler()\n",
        "\n",
        "X_train = sc_scaler.fit_transform(X_train)\n",
        "X_test = sc_scaler.transform(X_test)\n",
        "\n",
        "print(X_train.shape)"
      ]
    },
    {
      "cell_type": "code",
      "source": [
        "from imblearn.over_sampling import SMOTE\n",
        "\n",
        "# Instantiate SMOTE\n",
        "smote = SMOTE(sampling_strategy='auto', random_state=42)\n",
        "# Apply SMOTE to the training data\n",
        "X_train_resampled, y_train_resampled = smote.fit_resample(X_train, y_train)"
      ],
      "metadata": {
        "id": "WOFFuyu6b9GW"
      },
      "execution_count": 7,
      "outputs": []
    },
    {
      "cell_type": "markdown",
      "metadata": {
        "id": "-0NEFHRPgg7T"
      },
      "source": [
        "**INDIVIDUAL MODELS**"
      ]
    },
    {
      "cell_type": "markdown",
      "metadata": {
        "id": "fS2pGHNqgV08"
      },
      "source": [
        "**1. GaussianProcessClassifier**"
      ]
    },
    {
      "cell_type": "code",
      "execution_count": 8,
      "metadata": {
        "colab": {
          "base_uri": "https://localhost:8080/"
        },
        "id": "gEt8cmvEgb7S",
        "outputId": "373b212a-d61b-41b2-fe9e-9b937fd7e1a6"
      },
      "outputs": [
        {
          "output_type": "stream",
          "name": "stdout",
          "text": [
            "Accuracy: 0.9107142857142857\n"
          ]
        }
      ],
      "source": [
        "from sklearn.gaussian_process import GaussianProcessClassifier\n",
        "from sklearn.gaussian_process.kernels import RBF\n",
        "from sklearn.metrics import accuracy_score\n",
        "\n",
        "# Create a Gaussian Process Classifier with an RBF kernel\n",
        "kernel = RBF(1.0)  # Radial basis function (RBF) kernel\n",
        "gpc = GaussianProcessClassifier(kernel= 1**2 * RBF(length_scale=1), n_restarts_optimizer= 0)\n",
        "\n",
        "# Fit the classifier to the training data\n",
        "gpc.fit(X_train_resampled, y_train_resampled)\n",
        "\n",
        "# Make predictions on the test data\n",
        "y_pred = gpc.predict(X_test)\n",
        "\n",
        "# Calculate accuracy score\n",
        "accuracy = accuracy_score(y_test, y_pred)\n",
        "print(\"Accuracy:\", accuracy)"
      ]
    },
    {
      "cell_type": "markdown",
      "metadata": {
        "id": "axOXTdwBLhRM"
      },
      "source": [
        "**2. DecisionTreeClassifier**"
      ]
    },
    {
      "cell_type": "code",
      "execution_count": 9,
      "metadata": {
        "colab": {
          "base_uri": "https://localhost:8080/"
        },
        "id": "XqaD4mzOtWz0",
        "outputId": "a17b6f2f-7588-4a63-e0b2-e713f3b4917c"
      },
      "outputs": [
        {
          "output_type": "stream",
          "name": "stdout",
          "text": [
            "Accuracy: 0.9047619047619048\n"
          ]
        }
      ],
      "source": [
        "from sklearn.tree import DecisionTreeClassifier\n",
        "dtree = DecisionTreeClassifier(criterion=\"gini\", max_depth=5, min_samples_leaf=2, min_impurity_decrease=0.1)\n",
        "# Train the classifier on the training data\n",
        "dtree.fit(X_train_resampled, y_train_resampled)\n",
        "\n",
        "# Make predictions on the test set\n",
        "y_pred = dtree.predict(X_test)\n",
        "\n",
        "# Evaluate the classifier's performance\n",
        "accuracy = accuracy_score(y_test, y_pred)\n",
        "print(\"Accuracy:\", accuracy)"
      ]
    },
    {
      "cell_type": "markdown",
      "metadata": {
        "id": "EFO4uH1ILnuR"
      },
      "source": [
        "**3. GaussianNaiveBayes**"
      ]
    },
    {
      "cell_type": "code",
      "execution_count": 10,
      "metadata": {
        "colab": {
          "base_uri": "https://localhost:8080/"
        },
        "id": "MhKn9te1Ngew",
        "outputId": "5e8fcf46-ee02-4148-8b72-0e63a4fd10cd"
      },
      "outputs": [
        {
          "output_type": "stream",
          "name": "stdout",
          "text": [
            "Accuracy: 0.9107142857142857\n"
          ]
        }
      ],
      "source": [
        "from sklearn.naive_bayes import GaussianNB\n",
        "gnb = GaussianNB(var_smoothing=0.01)\n",
        "\n",
        "# Train the classifier on the training data\n",
        "gnb.fit(X_train_resampled, y_train_resampled)\n",
        "\n",
        "# Make predictions on the test set\n",
        "y_pred = gnb.predict(X_test)\n",
        "\n",
        "# Evaluate the classifier's performance\n",
        "accuracy = accuracy_score(y_test, y_pred)\n",
        "print(\"Accuracy:\", accuracy)"
      ]
    },
    {
      "cell_type": "markdown",
      "metadata": {
        "id": "11nRP5KnU9q5"
      },
      "source": [
        "**4. XGBoost**"
      ]
    },
    {
      "cell_type": "code",
      "execution_count": 11,
      "metadata": {
        "colab": {
          "base_uri": "https://localhost:8080/"
        },
        "id": "03aaRm-APyn6",
        "outputId": "73910dff-b91d-43d0-b731-27bb4f48485d"
      },
      "outputs": [
        {
          "output_type": "stream",
          "name": "stdout",
          "text": [
            "0.8988095238095238\n"
          ]
        }
      ],
      "source": [
        "#XGBClassifier\n",
        "import xgboost as xgb\n",
        "xgb_clf = xgb.XGBClassifier(gamma= 0, learning_rate= 0.2, max_depth= 3, n_estimators= 50)\n",
        "xgb_clf.fit(X_train_resampled, y_train_resampled)\n",
        "print(xgb_clf.score(X_test, y_test))"
      ]
    },
    {
      "cell_type": "markdown",
      "metadata": {
        "id": "NO-017VqU4bl"
      },
      "source": [
        "**6. GradientBoostingClassifier**"
      ]
    },
    {
      "cell_type": "code",
      "execution_count": 12,
      "metadata": {
        "colab": {
          "base_uri": "https://localhost:8080/"
        },
        "id": "bW7nJDNRRHNZ",
        "outputId": "fbca2012-da22-4385-c0cf-0855abc4ba40"
      },
      "outputs": [
        {
          "output_type": "stream",
          "name": "stdout",
          "text": [
            "Accuracy: 0.9166666666666666\n"
          ]
        }
      ],
      "source": [
        "from sklearn.ensemble import GradientBoostingClassifier\n",
        "gbc_clf = GradientBoostingClassifier(learning_rate= 0.01, max_depth= 5, min_samples_leaf= 1, min_samples_split= 10, n_estimators= 50, subsample= 0.8)\n",
        "gbc_clf.fit(X_train_resampled, y_train_resampled)\n",
        "# Make predictions on the test set\n",
        "y_pred = gbc_clf.predict(X_test)\n",
        "\n",
        "# Evaluate the classifier's performance\n",
        "accuracy = accuracy_score(y_test, y_pred)\n",
        "print(\"Accuracy:\", accuracy)"
      ]
    },
    {
      "cell_type": "markdown",
      "metadata": {
        "id": "JNZxbMZ_r1hr"
      },
      "source": [
        "**Ensemble Methods**"
      ]
    },
    {
      "cell_type": "code",
      "source": [
        "from sklearn.ensemble import VotingClassifier\n",
        "\n",
        "estimators = [(\"GNB\", gnb), (\"DT\", dtree), (\"XGB\", xgb_clf), (\"GPC\", gpc), (\"GBC\", gbc_clf)]\n",
        "voting_clf1 = VotingClassifier(estimators=estimators, voting=\"soft\")\n",
        "\n",
        "voting_clf1 = voting_clf1.fit(X_train_resampled, y_train_resampled)\n",
        "print(\"Voter 1's accuracy: %.2f%%\" % (100*voting_clf1.score(X_test, y_test)))\n"
      ],
      "metadata": {
        "colab": {
          "base_uri": "https://localhost:8080/"
        },
        "id": "WyDdBUFwdh9B",
        "outputId": "8f34bbc5-3399-4b20-fa7b-27e2ffa3a7c4"
      },
      "execution_count": 14,
      "outputs": [
        {
          "output_type": "stream",
          "name": "stdout",
          "text": [
            "Voter 1's accuracy: 91.07%\n"
          ]
        }
      ]
    },
    {
      "cell_type": "code",
      "source": [
        "from itertools import combinations\n",
        "from sklearn.metrics import (accuracy_score, precision_score, recall_score, f1_score,\n",
        "                             roc_curve, roc_auc_score, confusion_matrix, precision_recall_curve)\n",
        "estimators = [(\"GNB\", gnb), (\"DT\", dtree), (\"XGB\", xgb_clf), (\"GPC\", gpc), (\"GBC\", gbc_clf)]\n",
        "\n",
        "vot_classifiers = []\n",
        "for n in range(3, 6):\n",
        "    for subset in combinations(estimators, n):\n",
        "        vot_classifier = VotingClassifier(estimators=list(subset), voting='soft')\n",
        "        vot_classifiers.append(vot_classifier)\n",
        "\n",
        "results_df = pd.DataFrame(columns=['Classifier', 'Accuracy', 'Precision', 'Recall', 'F1 Score'])\n",
        "results_dff = pd.DataFrame(columns=['Classifier', 'TP', 'FP', 'FN', 'TN'])\n",
        "\n",
        "\n",
        "for vc in vot_classifiers:\n",
        "    vc.fit(X_train_resampled, y_train_resampled)\n",
        "    y_pred = vc.predict(X_test)\n",
        "    accuracy = accuracy_score(y_test, y_pred)\n",
        "    precision = precision_score(y_test, y_pred)\n",
        "    recall = recall_score(y_test, y_pred)\n",
        "    f1 = f1_score(y_test, y_pred)\n",
        "    classifier_name = [name for name, _ in vc.estimators]\n",
        "    clasf_names_str = ', '.join(classifier_name)\n",
        "    cm = confusion_matrix(y_test, y_pred)\n",
        "    tp, fp, fn, tn = cm.ravel()\n",
        "    results_df = results_df.append({'Classifier': clasf_names_str, 'Accuracy': accuracy,\n",
        "                                    'Precision': precision, 'Recall': recall, 'F1 Score': f1},\n",
        "                                   ignore_index=True)\n",
        "    results_dff = results_dff.append({'Classifier': clasf_names_str, 'TP': tp, 'FP': fp, 'FN': fn, 'TN': tn},ignore_index=True)\n"
      ],
      "metadata": {
        "id": "YZgjBnwKi615"
      },
      "execution_count": 15,
      "outputs": []
    },
    {
      "cell_type": "code",
      "source": [
        "combo = results_df.style.format(precision=3)\n",
        "def highlight_max(s):\n",
        "    is_max = s == s.max()\n",
        "    return ['background: lightgreen' if cell else '' for cell in is_max]\n",
        "combo.apply(highlight_max)\n"
      ],
      "metadata": {
        "colab": {
          "base_uri": "https://localhost:8080/",
          "height": 551
        },
        "id": "BkXkAOJMeglg",
        "outputId": "cdf235c5-549c-4927-9e42-7458cbde26b3"
      },
      "execution_count": 16,
      "outputs": [
        {
          "output_type": "execute_result",
          "data": {
            "text/plain": [
              "<pandas.io.formats.style.Styler at 0x7dae83cda920>"
            ],
            "text/html": [
              "<style type=\"text/css\">\n",
              "#T_6e686_row3_col1, #T_6e686_row3_col2, #T_6e686_row4_col1, #T_6e686_row4_col2, #T_6e686_row5_col1, #T_6e686_row5_col2, #T_6e686_row6_col1, #T_6e686_row6_col3, #T_6e686_row6_col4, #T_6e686_row7_col1, #T_6e686_row7_col3, #T_6e686_row7_col4, #T_6e686_row8_col1, #T_6e686_row8_col3, #T_6e686_row8_col4, #T_6e686_row9_col0, #T_6e686_row14_col1, #T_6e686_row14_col3, #T_6e686_row14_col4 {\n",
              "  background: lightgreen;\n",
              "}\n",
              "</style>\n",
              "<table id=\"T_6e686\" class=\"dataframe\">\n",
              "  <thead>\n",
              "    <tr>\n",
              "      <th class=\"blank level0\" >&nbsp;</th>\n",
              "      <th id=\"T_6e686_level0_col0\" class=\"col_heading level0 col0\" >Classifier</th>\n",
              "      <th id=\"T_6e686_level0_col1\" class=\"col_heading level0 col1\" >Accuracy</th>\n",
              "      <th id=\"T_6e686_level0_col2\" class=\"col_heading level0 col2\" >Precision</th>\n",
              "      <th id=\"T_6e686_level0_col3\" class=\"col_heading level0 col3\" >Recall</th>\n",
              "      <th id=\"T_6e686_level0_col4\" class=\"col_heading level0 col4\" >F1 Score</th>\n",
              "    </tr>\n",
              "  </thead>\n",
              "  <tbody>\n",
              "    <tr>\n",
              "      <th id=\"T_6e686_level0_row0\" class=\"row_heading level0 row0\" >0</th>\n",
              "      <td id=\"T_6e686_row0_col0\" class=\"data row0 col0\" >GNB, DT, XGB</td>\n",
              "      <td id=\"T_6e686_row0_col1\" class=\"data row0 col1\" >0.911</td>\n",
              "      <td id=\"T_6e686_row0_col2\" class=\"data row0 col2\" >0.850</td>\n",
              "      <td id=\"T_6e686_row0_col3\" class=\"data row0 col3\" >0.958</td>\n",
              "      <td id=\"T_6e686_row0_col4\" class=\"data row0 col4\" >0.901</td>\n",
              "    </tr>\n",
              "    <tr>\n",
              "      <th id=\"T_6e686_level0_row1\" class=\"row_heading level0 row1\" >1</th>\n",
              "      <td id=\"T_6e686_row1_col0\" class=\"data row1 col0\" >GNB, DT, GPC</td>\n",
              "      <td id=\"T_6e686_row1_col1\" class=\"data row1 col1\" >0.911</td>\n",
              "      <td id=\"T_6e686_row1_col2\" class=\"data row1 col2\" >0.850</td>\n",
              "      <td id=\"T_6e686_row1_col3\" class=\"data row1 col3\" >0.958</td>\n",
              "      <td id=\"T_6e686_row1_col4\" class=\"data row1 col4\" >0.901</td>\n",
              "    </tr>\n",
              "    <tr>\n",
              "      <th id=\"T_6e686_level0_row2\" class=\"row_heading level0 row2\" >2</th>\n",
              "      <td id=\"T_6e686_row2_col0\" class=\"data row2 col0\" >GNB, DT, GBC</td>\n",
              "      <td id=\"T_6e686_row2_col1\" class=\"data row2 col1\" >0.911</td>\n",
              "      <td id=\"T_6e686_row2_col2\" class=\"data row2 col2\" >0.850</td>\n",
              "      <td id=\"T_6e686_row2_col3\" class=\"data row2 col3\" >0.958</td>\n",
              "      <td id=\"T_6e686_row2_col4\" class=\"data row2 col4\" >0.901</td>\n",
              "    </tr>\n",
              "    <tr>\n",
              "      <th id=\"T_6e686_level0_row3\" class=\"row_heading level0 row3\" >3</th>\n",
              "      <td id=\"T_6e686_row3_col0\" class=\"data row3 col0\" >GNB, XGB, GPC</td>\n",
              "      <td id=\"T_6e686_row3_col1\" class=\"data row3 col1\" >0.917</td>\n",
              "      <td id=\"T_6e686_row3_col2\" class=\"data row3 col2\" >0.861</td>\n",
              "      <td id=\"T_6e686_row3_col3\" class=\"data row3 col3\" >0.958</td>\n",
              "      <td id=\"T_6e686_row3_col4\" class=\"data row3 col4\" >0.907</td>\n",
              "    </tr>\n",
              "    <tr>\n",
              "      <th id=\"T_6e686_level0_row4\" class=\"row_heading level0 row4\" >4</th>\n",
              "      <td id=\"T_6e686_row4_col0\" class=\"data row4 col0\" >GNB, XGB, GBC</td>\n",
              "      <td id=\"T_6e686_row4_col1\" class=\"data row4 col1\" >0.917</td>\n",
              "      <td id=\"T_6e686_row4_col2\" class=\"data row4 col2\" >0.861</td>\n",
              "      <td id=\"T_6e686_row4_col3\" class=\"data row4 col3\" >0.958</td>\n",
              "      <td id=\"T_6e686_row4_col4\" class=\"data row4 col4\" >0.907</td>\n",
              "    </tr>\n",
              "    <tr>\n",
              "      <th id=\"T_6e686_level0_row5\" class=\"row_heading level0 row5\" >5</th>\n",
              "      <td id=\"T_6e686_row5_col0\" class=\"data row5 col0\" >GNB, GPC, GBC</td>\n",
              "      <td id=\"T_6e686_row5_col1\" class=\"data row5 col1\" >0.917</td>\n",
              "      <td id=\"T_6e686_row5_col2\" class=\"data row5 col2\" >0.861</td>\n",
              "      <td id=\"T_6e686_row5_col3\" class=\"data row5 col3\" >0.958</td>\n",
              "      <td id=\"T_6e686_row5_col4\" class=\"data row5 col4\" >0.907</td>\n",
              "    </tr>\n",
              "    <tr>\n",
              "      <th id=\"T_6e686_level0_row6\" class=\"row_heading level0 row6\" >6</th>\n",
              "      <td id=\"T_6e686_row6_col0\" class=\"data row6 col0\" >DT, XGB, GPC</td>\n",
              "      <td id=\"T_6e686_row6_col1\" class=\"data row6 col1\" >0.917</td>\n",
              "      <td id=\"T_6e686_row6_col2\" class=\"data row6 col2\" >0.852</td>\n",
              "      <td id=\"T_6e686_row6_col3\" class=\"data row6 col3\" >0.972</td>\n",
              "      <td id=\"T_6e686_row6_col4\" class=\"data row6 col4\" >0.908</td>\n",
              "    </tr>\n",
              "    <tr>\n",
              "      <th id=\"T_6e686_level0_row7\" class=\"row_heading level0 row7\" >7</th>\n",
              "      <td id=\"T_6e686_row7_col0\" class=\"data row7 col0\" >DT, XGB, GBC</td>\n",
              "      <td id=\"T_6e686_row7_col1\" class=\"data row7 col1\" >0.917</td>\n",
              "      <td id=\"T_6e686_row7_col2\" class=\"data row7 col2\" >0.852</td>\n",
              "      <td id=\"T_6e686_row7_col3\" class=\"data row7 col3\" >0.972</td>\n",
              "      <td id=\"T_6e686_row7_col4\" class=\"data row7 col4\" >0.908</td>\n",
              "    </tr>\n",
              "    <tr>\n",
              "      <th id=\"T_6e686_level0_row8\" class=\"row_heading level0 row8\" >8</th>\n",
              "      <td id=\"T_6e686_row8_col0\" class=\"data row8 col0\" >DT, GPC, GBC</td>\n",
              "      <td id=\"T_6e686_row8_col1\" class=\"data row8 col1\" >0.917</td>\n",
              "      <td id=\"T_6e686_row8_col2\" class=\"data row8 col2\" >0.852</td>\n",
              "      <td id=\"T_6e686_row8_col3\" class=\"data row8 col3\" >0.972</td>\n",
              "      <td id=\"T_6e686_row8_col4\" class=\"data row8 col4\" >0.908</td>\n",
              "    </tr>\n",
              "    <tr>\n",
              "      <th id=\"T_6e686_level0_row9\" class=\"row_heading level0 row9\" >9</th>\n",
              "      <td id=\"T_6e686_row9_col0\" class=\"data row9 col0\" >XGB, GPC, GBC</td>\n",
              "      <td id=\"T_6e686_row9_col1\" class=\"data row9 col1\" >0.911</td>\n",
              "      <td id=\"T_6e686_row9_col2\" class=\"data row9 col2\" >0.850</td>\n",
              "      <td id=\"T_6e686_row9_col3\" class=\"data row9 col3\" >0.958</td>\n",
              "      <td id=\"T_6e686_row9_col4\" class=\"data row9 col4\" >0.901</td>\n",
              "    </tr>\n",
              "    <tr>\n",
              "      <th id=\"T_6e686_level0_row10\" class=\"row_heading level0 row10\" >10</th>\n",
              "      <td id=\"T_6e686_row10_col0\" class=\"data row10 col0\" >GNB, DT, XGB, GPC</td>\n",
              "      <td id=\"T_6e686_row10_col1\" class=\"data row10 col1\" >0.911</td>\n",
              "      <td id=\"T_6e686_row10_col2\" class=\"data row10 col2\" >0.850</td>\n",
              "      <td id=\"T_6e686_row10_col3\" class=\"data row10 col3\" >0.958</td>\n",
              "      <td id=\"T_6e686_row10_col4\" class=\"data row10 col4\" >0.901</td>\n",
              "    </tr>\n",
              "    <tr>\n",
              "      <th id=\"T_6e686_level0_row11\" class=\"row_heading level0 row11\" >11</th>\n",
              "      <td id=\"T_6e686_row11_col0\" class=\"data row11 col0\" >GNB, DT, XGB, GBC</td>\n",
              "      <td id=\"T_6e686_row11_col1\" class=\"data row11 col1\" >0.911</td>\n",
              "      <td id=\"T_6e686_row11_col2\" class=\"data row11 col2\" >0.850</td>\n",
              "      <td id=\"T_6e686_row11_col3\" class=\"data row11 col3\" >0.958</td>\n",
              "      <td id=\"T_6e686_row11_col4\" class=\"data row11 col4\" >0.901</td>\n",
              "    </tr>\n",
              "    <tr>\n",
              "      <th id=\"T_6e686_level0_row12\" class=\"row_heading level0 row12\" >12</th>\n",
              "      <td id=\"T_6e686_row12_col0\" class=\"data row12 col0\" >GNB, DT, GPC, GBC</td>\n",
              "      <td id=\"T_6e686_row12_col1\" class=\"data row12 col1\" >0.911</td>\n",
              "      <td id=\"T_6e686_row12_col2\" class=\"data row12 col2\" >0.850</td>\n",
              "      <td id=\"T_6e686_row12_col3\" class=\"data row12 col3\" >0.958</td>\n",
              "      <td id=\"T_6e686_row12_col4\" class=\"data row12 col4\" >0.901</td>\n",
              "    </tr>\n",
              "    <tr>\n",
              "      <th id=\"T_6e686_level0_row13\" class=\"row_heading level0 row13\" >13</th>\n",
              "      <td id=\"T_6e686_row13_col0\" class=\"data row13 col0\" >GNB, XGB, GPC, GBC</td>\n",
              "      <td id=\"T_6e686_row13_col1\" class=\"data row13 col1\" >0.911</td>\n",
              "      <td id=\"T_6e686_row13_col2\" class=\"data row13 col2\" >0.850</td>\n",
              "      <td id=\"T_6e686_row13_col3\" class=\"data row13 col3\" >0.958</td>\n",
              "      <td id=\"T_6e686_row13_col4\" class=\"data row13 col4\" >0.901</td>\n",
              "    </tr>\n",
              "    <tr>\n",
              "      <th id=\"T_6e686_level0_row14\" class=\"row_heading level0 row14\" >14</th>\n",
              "      <td id=\"T_6e686_row14_col0\" class=\"data row14 col0\" >DT, XGB, GPC, GBC</td>\n",
              "      <td id=\"T_6e686_row14_col1\" class=\"data row14 col1\" >0.917</td>\n",
              "      <td id=\"T_6e686_row14_col2\" class=\"data row14 col2\" >0.852</td>\n",
              "      <td id=\"T_6e686_row14_col3\" class=\"data row14 col3\" >0.972</td>\n",
              "      <td id=\"T_6e686_row14_col4\" class=\"data row14 col4\" >0.908</td>\n",
              "    </tr>\n",
              "    <tr>\n",
              "      <th id=\"T_6e686_level0_row15\" class=\"row_heading level0 row15\" >15</th>\n",
              "      <td id=\"T_6e686_row15_col0\" class=\"data row15 col0\" >GNB, DT, XGB, GPC, GBC</td>\n",
              "      <td id=\"T_6e686_row15_col1\" class=\"data row15 col1\" >0.911</td>\n",
              "      <td id=\"T_6e686_row15_col2\" class=\"data row15 col2\" >0.850</td>\n",
              "      <td id=\"T_6e686_row15_col3\" class=\"data row15 col3\" >0.958</td>\n",
              "      <td id=\"T_6e686_row15_col4\" class=\"data row15 col4\" >0.901</td>\n",
              "    </tr>\n",
              "  </tbody>\n",
              "</table>\n"
            ]
          },
          "metadata": {},
          "execution_count": 16
        }
      ]
    },
    {
      "cell_type": "code",
      "source": [
        "results_dff"
      ],
      "metadata": {
        "colab": {
          "base_uri": "https://localhost:8080/",
          "height": 551
        },
        "id": "kCfMLPK-2uEB",
        "outputId": "b0f6b918-56eb-44f5-9018-33c56a83d4cc"
      },
      "execution_count": 17,
      "outputs": [
        {
          "output_type": "execute_result",
          "data": {
            "text/plain": [
              "                Classifier  TP  FP FN  TN\n",
              "0             GNB, DT, XGB  85  12  3  68\n",
              "1             GNB, DT, GPC  85  12  3  68\n",
              "2             GNB, DT, GBC  85  12  3  68\n",
              "3            GNB, XGB, GPC  86  11  3  68\n",
              "4            GNB, XGB, GBC  86  11  3  68\n",
              "5            GNB, GPC, GBC  86  11  3  68\n",
              "6             DT, XGB, GPC  85  12  2  69\n",
              "7             DT, XGB, GBC  85  12  2  69\n",
              "8             DT, GPC, GBC  85  12  2  69\n",
              "9            XGB, GPC, GBC  85  12  3  68\n",
              "10       GNB, DT, XGB, GPC  85  12  3  68\n",
              "11       GNB, DT, XGB, GBC  85  12  3  68\n",
              "12       GNB, DT, GPC, GBC  85  12  3  68\n",
              "13      GNB, XGB, GPC, GBC  85  12  3  68\n",
              "14       DT, XGB, GPC, GBC  85  12  2  69\n",
              "15  GNB, DT, XGB, GPC, GBC  85  12  3  68"
            ],
            "text/html": [
              "\n",
              "\n",
              "  <div id=\"df-8bb0e206-9808-424a-b196-0c58f8081b5b\">\n",
              "    <div class=\"colab-df-container\">\n",
              "      <div>\n",
              "<style scoped>\n",
              "    .dataframe tbody tr th:only-of-type {\n",
              "        vertical-align: middle;\n",
              "    }\n",
              "\n",
              "    .dataframe tbody tr th {\n",
              "        vertical-align: top;\n",
              "    }\n",
              "\n",
              "    .dataframe thead th {\n",
              "        text-align: right;\n",
              "    }\n",
              "</style>\n",
              "<table border=\"1\" class=\"dataframe\">\n",
              "  <thead>\n",
              "    <tr style=\"text-align: right;\">\n",
              "      <th></th>\n",
              "      <th>Classifier</th>\n",
              "      <th>TP</th>\n",
              "      <th>FP</th>\n",
              "      <th>FN</th>\n",
              "      <th>TN</th>\n",
              "    </tr>\n",
              "  </thead>\n",
              "  <tbody>\n",
              "    <tr>\n",
              "      <th>0</th>\n",
              "      <td>GNB, DT, XGB</td>\n",
              "      <td>85</td>\n",
              "      <td>12</td>\n",
              "      <td>3</td>\n",
              "      <td>68</td>\n",
              "    </tr>\n",
              "    <tr>\n",
              "      <th>1</th>\n",
              "      <td>GNB, DT, GPC</td>\n",
              "      <td>85</td>\n",
              "      <td>12</td>\n",
              "      <td>3</td>\n",
              "      <td>68</td>\n",
              "    </tr>\n",
              "    <tr>\n",
              "      <th>2</th>\n",
              "      <td>GNB, DT, GBC</td>\n",
              "      <td>85</td>\n",
              "      <td>12</td>\n",
              "      <td>3</td>\n",
              "      <td>68</td>\n",
              "    </tr>\n",
              "    <tr>\n",
              "      <th>3</th>\n",
              "      <td>GNB, XGB, GPC</td>\n",
              "      <td>86</td>\n",
              "      <td>11</td>\n",
              "      <td>3</td>\n",
              "      <td>68</td>\n",
              "    </tr>\n",
              "    <tr>\n",
              "      <th>4</th>\n",
              "      <td>GNB, XGB, GBC</td>\n",
              "      <td>86</td>\n",
              "      <td>11</td>\n",
              "      <td>3</td>\n",
              "      <td>68</td>\n",
              "    </tr>\n",
              "    <tr>\n",
              "      <th>5</th>\n",
              "      <td>GNB, GPC, GBC</td>\n",
              "      <td>86</td>\n",
              "      <td>11</td>\n",
              "      <td>3</td>\n",
              "      <td>68</td>\n",
              "    </tr>\n",
              "    <tr>\n",
              "      <th>6</th>\n",
              "      <td>DT, XGB, GPC</td>\n",
              "      <td>85</td>\n",
              "      <td>12</td>\n",
              "      <td>2</td>\n",
              "      <td>69</td>\n",
              "    </tr>\n",
              "    <tr>\n",
              "      <th>7</th>\n",
              "      <td>DT, XGB, GBC</td>\n",
              "      <td>85</td>\n",
              "      <td>12</td>\n",
              "      <td>2</td>\n",
              "      <td>69</td>\n",
              "    </tr>\n",
              "    <tr>\n",
              "      <th>8</th>\n",
              "      <td>DT, GPC, GBC</td>\n",
              "      <td>85</td>\n",
              "      <td>12</td>\n",
              "      <td>2</td>\n",
              "      <td>69</td>\n",
              "    </tr>\n",
              "    <tr>\n",
              "      <th>9</th>\n",
              "      <td>XGB, GPC, GBC</td>\n",
              "      <td>85</td>\n",
              "      <td>12</td>\n",
              "      <td>3</td>\n",
              "      <td>68</td>\n",
              "    </tr>\n",
              "    <tr>\n",
              "      <th>10</th>\n",
              "      <td>GNB, DT, XGB, GPC</td>\n",
              "      <td>85</td>\n",
              "      <td>12</td>\n",
              "      <td>3</td>\n",
              "      <td>68</td>\n",
              "    </tr>\n",
              "    <tr>\n",
              "      <th>11</th>\n",
              "      <td>GNB, DT, XGB, GBC</td>\n",
              "      <td>85</td>\n",
              "      <td>12</td>\n",
              "      <td>3</td>\n",
              "      <td>68</td>\n",
              "    </tr>\n",
              "    <tr>\n",
              "      <th>12</th>\n",
              "      <td>GNB, DT, GPC, GBC</td>\n",
              "      <td>85</td>\n",
              "      <td>12</td>\n",
              "      <td>3</td>\n",
              "      <td>68</td>\n",
              "    </tr>\n",
              "    <tr>\n",
              "      <th>13</th>\n",
              "      <td>GNB, XGB, GPC, GBC</td>\n",
              "      <td>85</td>\n",
              "      <td>12</td>\n",
              "      <td>3</td>\n",
              "      <td>68</td>\n",
              "    </tr>\n",
              "    <tr>\n",
              "      <th>14</th>\n",
              "      <td>DT, XGB, GPC, GBC</td>\n",
              "      <td>85</td>\n",
              "      <td>12</td>\n",
              "      <td>2</td>\n",
              "      <td>69</td>\n",
              "    </tr>\n",
              "    <tr>\n",
              "      <th>15</th>\n",
              "      <td>GNB, DT, XGB, GPC, GBC</td>\n",
              "      <td>85</td>\n",
              "      <td>12</td>\n",
              "      <td>3</td>\n",
              "      <td>68</td>\n",
              "    </tr>\n",
              "  </tbody>\n",
              "</table>\n",
              "</div>\n",
              "      <button class=\"colab-df-convert\" onclick=\"convertToInteractive('df-8bb0e206-9808-424a-b196-0c58f8081b5b')\"\n",
              "              title=\"Convert this dataframe to an interactive table.\"\n",
              "              style=\"display:none;\">\n",
              "\n",
              "  <svg xmlns=\"http://www.w3.org/2000/svg\" height=\"24px\"viewBox=\"0 0 24 24\"\n",
              "       width=\"24px\">\n",
              "    <path d=\"M0 0h24v24H0V0z\" fill=\"none\"/>\n",
              "    <path d=\"M18.56 5.44l.94 2.06.94-2.06 2.06-.94-2.06-.94-.94-2.06-.94 2.06-2.06.94zm-11 1L8.5 8.5l.94-2.06 2.06-.94-2.06-.94L8.5 2.5l-.94 2.06-2.06.94zm10 10l.94 2.06.94-2.06 2.06-.94-2.06-.94-.94-2.06-.94 2.06-2.06.94z\"/><path d=\"M17.41 7.96l-1.37-1.37c-.4-.4-.92-.59-1.43-.59-.52 0-1.04.2-1.43.59L10.3 9.45l-7.72 7.72c-.78.78-.78 2.05 0 2.83L4 21.41c.39.39.9.59 1.41.59.51 0 1.02-.2 1.41-.59l7.78-7.78 2.81-2.81c.8-.78.8-2.07 0-2.86zM5.41 20L4 18.59l7.72-7.72 1.47 1.35L5.41 20z\"/>\n",
              "  </svg>\n",
              "      </button>\n",
              "\n",
              "\n",
              "\n",
              "    <div id=\"df-6aed2ab3-1764-44c4-9418-3295f9a967db\">\n",
              "      <button class=\"colab-df-quickchart\" onclick=\"quickchart('df-6aed2ab3-1764-44c4-9418-3295f9a967db')\"\n",
              "              title=\"Suggest charts.\"\n",
              "              style=\"display:none;\">\n",
              "\n",
              "<svg xmlns=\"http://www.w3.org/2000/svg\" height=\"24px\"viewBox=\"0 0 24 24\"\n",
              "     width=\"24px\">\n",
              "    <g>\n",
              "        <path d=\"M19 3H5c-1.1 0-2 .9-2 2v14c0 1.1.9 2 2 2h14c1.1 0 2-.9 2-2V5c0-1.1-.9-2-2-2zM9 17H7v-7h2v7zm4 0h-2V7h2v10zm4 0h-2v-4h2v4z\"/>\n",
              "    </g>\n",
              "</svg>\n",
              "      </button>\n",
              "    </div>\n",
              "\n",
              "<style>\n",
              "  .colab-df-quickchart {\n",
              "    background-color: #E8F0FE;\n",
              "    border: none;\n",
              "    border-radius: 50%;\n",
              "    cursor: pointer;\n",
              "    display: none;\n",
              "    fill: #1967D2;\n",
              "    height: 32px;\n",
              "    padding: 0 0 0 0;\n",
              "    width: 32px;\n",
              "  }\n",
              "\n",
              "  .colab-df-quickchart:hover {\n",
              "    background-color: #E2EBFA;\n",
              "    box-shadow: 0px 1px 2px rgba(60, 64, 67, 0.3), 0px 1px 3px 1px rgba(60, 64, 67, 0.15);\n",
              "    fill: #174EA6;\n",
              "  }\n",
              "\n",
              "  [theme=dark] .colab-df-quickchart {\n",
              "    background-color: #3B4455;\n",
              "    fill: #D2E3FC;\n",
              "  }\n",
              "\n",
              "  [theme=dark] .colab-df-quickchart:hover {\n",
              "    background-color: #434B5C;\n",
              "    box-shadow: 0px 1px 3px 1px rgba(0, 0, 0, 0.15);\n",
              "    filter: drop-shadow(0px 1px 2px rgba(0, 0, 0, 0.3));\n",
              "    fill: #FFFFFF;\n",
              "  }\n",
              "</style>\n",
              "\n",
              "    <script>\n",
              "      async function quickchart(key) {\n",
              "        const containerElement = document.querySelector('#' + key);\n",
              "        const charts = await google.colab.kernel.invokeFunction(\n",
              "            'suggestCharts', [key], {});\n",
              "      }\n",
              "    </script>\n",
              "\n",
              "      <script>\n",
              "\n",
              "function displayQuickchartButton(domScope) {\n",
              "  let quickchartButtonEl =\n",
              "    domScope.querySelector('#df-6aed2ab3-1764-44c4-9418-3295f9a967db button.colab-df-quickchart');\n",
              "  quickchartButtonEl.style.display =\n",
              "    google.colab.kernel.accessAllowed ? 'block' : 'none';\n",
              "}\n",
              "\n",
              "        displayQuickchartButton(document);\n",
              "      </script>\n",
              "      <style>\n",
              "    .colab-df-container {\n",
              "      display:flex;\n",
              "      flex-wrap:wrap;\n",
              "      gap: 12px;\n",
              "    }\n",
              "\n",
              "    .colab-df-convert {\n",
              "      background-color: #E8F0FE;\n",
              "      border: none;\n",
              "      border-radius: 50%;\n",
              "      cursor: pointer;\n",
              "      display: none;\n",
              "      fill: #1967D2;\n",
              "      height: 32px;\n",
              "      padding: 0 0 0 0;\n",
              "      width: 32px;\n",
              "    }\n",
              "\n",
              "    .colab-df-convert:hover {\n",
              "      background-color: #E2EBFA;\n",
              "      box-shadow: 0px 1px 2px rgba(60, 64, 67, 0.3), 0px 1px 3px 1px rgba(60, 64, 67, 0.15);\n",
              "      fill: #174EA6;\n",
              "    }\n",
              "\n",
              "    [theme=dark] .colab-df-convert {\n",
              "      background-color: #3B4455;\n",
              "      fill: #D2E3FC;\n",
              "    }\n",
              "\n",
              "    [theme=dark] .colab-df-convert:hover {\n",
              "      background-color: #434B5C;\n",
              "      box-shadow: 0px 1px 3px 1px rgba(0, 0, 0, 0.15);\n",
              "      filter: drop-shadow(0px 1px 2px rgba(0, 0, 0, 0.3));\n",
              "      fill: #FFFFFF;\n",
              "    }\n",
              "  </style>\n",
              "\n",
              "      <script>\n",
              "        const buttonEl =\n",
              "          document.querySelector('#df-8bb0e206-9808-424a-b196-0c58f8081b5b button.colab-df-convert');\n",
              "        buttonEl.style.display =\n",
              "          google.colab.kernel.accessAllowed ? 'block' : 'none';\n",
              "\n",
              "        async function convertToInteractive(key) {\n",
              "          const element = document.querySelector('#df-8bb0e206-9808-424a-b196-0c58f8081b5b');\n",
              "          const dataTable =\n",
              "            await google.colab.kernel.invokeFunction('convertToInteractive',\n",
              "                                                     [key], {});\n",
              "          if (!dataTable) return;\n",
              "\n",
              "          const docLinkHtml = 'Like what you see? Visit the ' +\n",
              "            '<a target=\"_blank\" href=https://colab.research.google.com/notebooks/data_table.ipynb>data table notebook</a>'\n",
              "            + ' to learn more about interactive tables.';\n",
              "          element.innerHTML = '';\n",
              "          dataTable['output_type'] = 'display_data';\n",
              "          await google.colab.output.renderOutput(dataTable, element);\n",
              "          const docLink = document.createElement('div');\n",
              "          docLink.innerHTML = docLinkHtml;\n",
              "          element.appendChild(docLink);\n",
              "        }\n",
              "      </script>\n",
              "    </div>\n",
              "  </div>\n"
            ]
          },
          "metadata": {},
          "execution_count": 17
        }
      ]
    },
    {
      "cell_type": "code",
      "source": [
        "plt.plot([0, 1], [0, 1], 'k--', label='Random')\n",
        "\n",
        "for vc in vot_classifiers:\n",
        "    vc.fit(X_train_resampled, y_train_resampled)\n",
        "    y_pred_proba = vc.predict_proba(X_test)[:, 1]\n",
        "    fpr, tpr, _ = roc_curve(y_test, y_pred_proba)\n",
        "    roc_auc = roc_auc_score(y_test, y_pred_proba)\n",
        "    classifier_name = [name for name, _ in vc.estimators]\n",
        "    clasf_names_str = ', '.join(classifier_name)\n",
        "    plt.plot(fpr, tpr, label=f'{clasf_names_str} (AUC = {roc_auc:.3f})')\n",
        "\n",
        "plt.xlabel('False Positive Rate')\n",
        "plt.ylabel('True Positive Rate')\n",
        "plt.title('ROC AUC Curve')\n",
        "plt.legend(loc='center left', bbox_to_anchor=(1, 0.5))\n",
        "plt.grid(True)\n",
        "plt.show()"
      ],
      "metadata": {
        "colab": {
          "base_uri": "https://localhost:8080/",
          "height": 472
        },
        "id": "BjJmVEBV6MJE",
        "outputId": "0661dd0f-0554-44d5-c19f-a60fd0fb54bd"
      },
      "execution_count": 18,
      "outputs": [
        {
          "output_type": "display_data",
          "data": {
            "text/plain": [
              "<Figure size 640x480 with 1 Axes>"
            ],
            "image/png": "[encoded data removed]"
          },
          "metadata": {}
        }
      ]
    },
    {
      "cell_type": "markdown",
      "metadata": {
        "id": "vQo5uvwnrwqB"
      },
      "source": [
        "**STACKING ENSEMBLE**"
      ]
    },
    {
      "cell_type": "code",
      "source": [
        "from sklearn.ensemble import StackingClassifier\n",
        "\n",
        "estimators = [(\"GNB\", gnb), (\"DT\", dtree), (\"XGB\", xgb_clf), (\"GPC\", gpc), (\"GBC\", gbc_clf)]\n",
        "stk_classifiers = []\n",
        "for n in range(3, 6):\n",
        "    for subset in combinations(estimators, n):\n",
        "        stk_classifier = StackingClassifier(estimators=list(subset), final_estimator=gnb)\n",
        "        stk_classifiers.append(stk_classifier)\n",
        "\n",
        "stk_results = pd.DataFrame(columns=['Classifier', 'Accuracy', 'Precision', 'Recall', 'F1 Score'])\n",
        "stk_resultss = pd.DataFrame(columns=['Classifier', 'TP', 'FP', 'FN', 'TN'])\n",
        "\n",
        "\n",
        "for stk in stk_classifiers:\n",
        "    stk.fit(X_train_resampled, y_train_resampled)\n",
        "    y_pred = stk.predict(X_test)\n",
        "    accuracy = accuracy_score(y_test, y_pred)\n",
        "    precision = precision_score(y_test, y_pred)\n",
        "    recall = recall_score(y_test, y_pred)\n",
        "    f1 = f1_score(y_test, y_pred)\n",
        "    classifier_name = [name for name, _ in stk.estimators]\n",
        "    clasf_names_str = ', '.join(classifier_name)\n",
        "    cm = confusion_matrix(y_test, y_pred)\n",
        "    tp, fp, fn, tn = cm.ravel()\n",
        "    stk_results = stk_results.append({'Classifier': clasf_names_str, 'Accuracy': accuracy,\n",
        "                                    'Precision': precision, 'Recall': recall, 'F1 Score': f1},\n",
        "                                   ignore_index=True)\n",
        "    stk_resultss = stk_resultss.append({'Classifier': clasf_names_str, 'TP': tp, 'FP': fp, 'FN': fn, 'TN': tn},ignore_index=True)"
      ],
      "metadata": {
        "id": "Wwi2a828ME6L"
      },
      "execution_count": 20,
      "outputs": []
    },
    {
      "cell_type": "code",
      "source": [
        "stk_combo = stk_results.style.format(precision=3)\n",
        "def highlight_max(s):\n",
        "    is_max = s == s.max()\n",
        "    return ['background: lightgreen' if cell else '' for cell in is_max]\n",
        "stk_combo.apply(highlight_max)\n"
      ],
      "metadata": {
        "colab": {
          "base_uri": "https://localhost:8080/",
          "height": 551
        },
        "id": "00u8ZW6ujZHn",
        "outputId": "9d2ef87e-e4ed-435c-a720-f9ad6f75b39c"
      },
      "execution_count": 21,
      "outputs": [
        {
          "output_type": "execute_result",
          "data": {
            "text/plain": [
              "<pandas.io.formats.style.Styler at 0x7dae820e4670>"
            ],
            "text/html": [
              "<style type=\"text/css\">\n",
              "#T_1f658_row3_col1, #T_1f658_row3_col2, #T_1f658_row4_col1, #T_1f658_row4_col2, #T_1f658_row7_col1, #T_1f658_row7_col3, #T_1f658_row7_col4, #T_1f658_row8_col1, #T_1f658_row8_col3, #T_1f658_row8_col4, #T_1f658_row9_col0, #T_1f658_row14_col1, #T_1f658_row14_col3, #T_1f658_row14_col4 {\n",
              "  background: lightgreen;\n",
              "}\n",
              "</style>\n",
              "<table id=\"T_1f658\" class=\"dataframe\">\n",
              "  <thead>\n",
              "    <tr>\n",
              "      <th class=\"blank level0\" >&nbsp;</th>\n",
              "      <th id=\"T_1f658_level0_col0\" class=\"col_heading level0 col0\" >Classifier</th>\n",
              "      <th id=\"T_1f658_level0_col1\" class=\"col_heading level0 col1\" >Accuracy</th>\n",
              "      <th id=\"T_1f658_level0_col2\" class=\"col_heading level0 col2\" >Precision</th>\n",
              "      <th id=\"T_1f658_level0_col3\" class=\"col_heading level0 col3\" >Recall</th>\n",
              "      <th id=\"T_1f658_level0_col4\" class=\"col_heading level0 col4\" >F1 Score</th>\n",
              "    </tr>\n",
              "  </thead>\n",
              "  <tbody>\n",
              "    <tr>\n",
              "      <th id=\"T_1f658_level0_row0\" class=\"row_heading level0 row0\" >0</th>\n",
              "      <td id=\"T_1f658_row0_col0\" class=\"data row0 col0\" >GNB, DT, XGB</td>\n",
              "      <td id=\"T_1f658_row0_col1\" class=\"data row0 col1\" >0.911</td>\n",
              "      <td id=\"T_1f658_row0_col2\" class=\"data row0 col2\" >0.850</td>\n",
              "      <td id=\"T_1f658_row0_col3\" class=\"data row0 col3\" >0.958</td>\n",
              "      <td id=\"T_1f658_row0_col4\" class=\"data row0 col4\" >0.901</td>\n",
              "    </tr>\n",
              "    <tr>\n",
              "      <th id=\"T_1f658_level0_row1\" class=\"row_heading level0 row1\" >1</th>\n",
              "      <td id=\"T_1f658_row1_col0\" class=\"data row1 col0\" >GNB, DT, GPC</td>\n",
              "      <td id=\"T_1f658_row1_col1\" class=\"data row1 col1\" >0.911</td>\n",
              "      <td id=\"T_1f658_row1_col2\" class=\"data row1 col2\" >0.850</td>\n",
              "      <td id=\"T_1f658_row1_col3\" class=\"data row1 col3\" >0.958</td>\n",
              "      <td id=\"T_1f658_row1_col4\" class=\"data row1 col4\" >0.901</td>\n",
              "    </tr>\n",
              "    <tr>\n",
              "      <th id=\"T_1f658_level0_row2\" class=\"row_heading level0 row2\" >2</th>\n",
              "      <td id=\"T_1f658_row2_col0\" class=\"data row2 col0\" >GNB, DT, GBC</td>\n",
              "      <td id=\"T_1f658_row2_col1\" class=\"data row2 col1\" >0.911</td>\n",
              "      <td id=\"T_1f658_row2_col2\" class=\"data row2 col2\" >0.850</td>\n",
              "      <td id=\"T_1f658_row2_col3\" class=\"data row2 col3\" >0.958</td>\n",
              "      <td id=\"T_1f658_row2_col4\" class=\"data row2 col4\" >0.901</td>\n",
              "    </tr>\n",
              "    <tr>\n",
              "      <th id=\"T_1f658_level0_row3\" class=\"row_heading level0 row3\" >3</th>\n",
              "      <td id=\"T_1f658_row3_col0\" class=\"data row3 col0\" >GNB, XGB, GPC</td>\n",
              "      <td id=\"T_1f658_row3_col1\" class=\"data row3 col1\" >0.917</td>\n",
              "      <td id=\"T_1f658_row3_col2\" class=\"data row3 col2\" >0.861</td>\n",
              "      <td id=\"T_1f658_row3_col3\" class=\"data row3 col3\" >0.958</td>\n",
              "      <td id=\"T_1f658_row3_col4\" class=\"data row3 col4\" >0.907</td>\n",
              "    </tr>\n",
              "    <tr>\n",
              "      <th id=\"T_1f658_level0_row4\" class=\"row_heading level0 row4\" >4</th>\n",
              "      <td id=\"T_1f658_row4_col0\" class=\"data row4 col0\" >GNB, XGB, GBC</td>\n",
              "      <td id=\"T_1f658_row4_col1\" class=\"data row4 col1\" >0.917</td>\n",
              "      <td id=\"T_1f658_row4_col2\" class=\"data row4 col2\" >0.861</td>\n",
              "      <td id=\"T_1f658_row4_col3\" class=\"data row4 col3\" >0.958</td>\n",
              "      <td id=\"T_1f658_row4_col4\" class=\"data row4 col4\" >0.907</td>\n",
              "    </tr>\n",
              "    <tr>\n",
              "      <th id=\"T_1f658_level0_row5\" class=\"row_heading level0 row5\" >5</th>\n",
              "      <td id=\"T_1f658_row5_col0\" class=\"data row5 col0\" >GNB, GPC, GBC</td>\n",
              "      <td id=\"T_1f658_row5_col1\" class=\"data row5 col1\" >0.911</td>\n",
              "      <td id=\"T_1f658_row5_col2\" class=\"data row5 col2\" >0.850</td>\n",
              "      <td id=\"T_1f658_row5_col3\" class=\"data row5 col3\" >0.958</td>\n",
              "      <td id=\"T_1f658_row5_col4\" class=\"data row5 col4\" >0.901</td>\n",
              "    </tr>\n",
              "    <tr>\n",
              "      <th id=\"T_1f658_level0_row6\" class=\"row_heading level0 row6\" >6</th>\n",
              "      <td id=\"T_1f658_row6_col0\" class=\"data row6 col0\" >DT, XGB, GPC</td>\n",
              "      <td id=\"T_1f658_row6_col1\" class=\"data row6 col1\" >0.911</td>\n",
              "      <td id=\"T_1f658_row6_col2\" class=\"data row6 col2\" >0.850</td>\n",
              "      <td id=\"T_1f658_row6_col3\" class=\"data row6 col3\" >0.958</td>\n",
              "      <td id=\"T_1f658_row6_col4\" class=\"data row6 col4\" >0.901</td>\n",
              "    </tr>\n",
              "    <tr>\n",
              "      <th id=\"T_1f658_level0_row7\" class=\"row_heading level0 row7\" >7</th>\n",
              "      <td id=\"T_1f658_row7_col0\" class=\"data row7 col0\" >DT, XGB, GBC</td>\n",
              "      <td id=\"T_1f658_row7_col1\" class=\"data row7 col1\" >0.917</td>\n",
              "      <td id=\"T_1f658_row7_col2\" class=\"data row7 col2\" >0.852</td>\n",
              "      <td id=\"T_1f658_row7_col3\" class=\"data row7 col3\" >0.972</td>\n",
              "      <td id=\"T_1f658_row7_col4\" class=\"data row7 col4\" >0.908</td>\n",
              "    </tr>\n",
              "    <tr>\n",
              "      <th id=\"T_1f658_level0_row8\" class=\"row_heading level0 row8\" >8</th>\n",
              "      <td id=\"T_1f658_row8_col0\" class=\"data row8 col0\" >DT, GPC, GBC</td>\n",
              "      <td id=\"T_1f658_row8_col1\" class=\"data row8 col1\" >0.917</td>\n",
              "      <td id=\"T_1f658_row8_col2\" class=\"data row8 col2\" >0.852</td>\n",
              "      <td id=\"T_1f658_row8_col3\" class=\"data row8 col3\" >0.972</td>\n",
              "      <td id=\"T_1f658_row8_col4\" class=\"data row8 col4\" >0.908</td>\n",
              "    </tr>\n",
              "    <tr>\n",
              "      <th id=\"T_1f658_level0_row9\" class=\"row_heading level0 row9\" >9</th>\n",
              "      <td id=\"T_1f658_row9_col0\" class=\"data row9 col0\" >XGB, GPC, GBC</td>\n",
              "      <td id=\"T_1f658_row9_col1\" class=\"data row9 col1\" >0.911</td>\n",
              "      <td id=\"T_1f658_row9_col2\" class=\"data row9 col2\" >0.850</td>\n",
              "      <td id=\"T_1f658_row9_col3\" class=\"data row9 col3\" >0.958</td>\n",
              "      <td id=\"T_1f658_row9_col4\" class=\"data row9 col4\" >0.901</td>\n",
              "    </tr>\n",
              "    <tr>\n",
              "      <th id=\"T_1f658_level0_row10\" class=\"row_heading level0 row10\" >10</th>\n",
              "      <td id=\"T_1f658_row10_col0\" class=\"data row10 col0\" >GNB, DT, XGB, GPC</td>\n",
              "      <td id=\"T_1f658_row10_col1\" class=\"data row10 col1\" >0.911</td>\n",
              "      <td id=\"T_1f658_row10_col2\" class=\"data row10 col2\" >0.850</td>\n",
              "      <td id=\"T_1f658_row10_col3\" class=\"data row10 col3\" >0.958</td>\n",
              "      <td id=\"T_1f658_row10_col4\" class=\"data row10 col4\" >0.901</td>\n",
              "    </tr>\n",
              "    <tr>\n",
              "      <th id=\"T_1f658_level0_row11\" class=\"row_heading level0 row11\" >11</th>\n",
              "      <td id=\"T_1f658_row11_col0\" class=\"data row11 col0\" >GNB, DT, XGB, GBC</td>\n",
              "      <td id=\"T_1f658_row11_col1\" class=\"data row11 col1\" >0.911</td>\n",
              "      <td id=\"T_1f658_row11_col2\" class=\"data row11 col2\" >0.850</td>\n",
              "      <td id=\"T_1f658_row11_col3\" class=\"data row11 col3\" >0.958</td>\n",
              "      <td id=\"T_1f658_row11_col4\" class=\"data row11 col4\" >0.901</td>\n",
              "    </tr>\n",
              "    <tr>\n",
              "      <th id=\"T_1f658_level0_row12\" class=\"row_heading level0 row12\" >12</th>\n",
              "      <td id=\"T_1f658_row12_col0\" class=\"data row12 col0\" >GNB, DT, GPC, GBC</td>\n",
              "      <td id=\"T_1f658_row12_col1\" class=\"data row12 col1\" >0.911</td>\n",
              "      <td id=\"T_1f658_row12_col2\" class=\"data row12 col2\" >0.850</td>\n",
              "      <td id=\"T_1f658_row12_col3\" class=\"data row12 col3\" >0.958</td>\n",
              "      <td id=\"T_1f658_row12_col4\" class=\"data row12 col4\" >0.901</td>\n",
              "    </tr>\n",
              "    <tr>\n",
              "      <th id=\"T_1f658_level0_row13\" class=\"row_heading level0 row13\" >13</th>\n",
              "      <td id=\"T_1f658_row13_col0\" class=\"data row13 col0\" >GNB, XGB, GPC, GBC</td>\n",
              "      <td id=\"T_1f658_row13_col1\" class=\"data row13 col1\" >0.911</td>\n",
              "      <td id=\"T_1f658_row13_col2\" class=\"data row13 col2\" >0.850</td>\n",
              "      <td id=\"T_1f658_row13_col3\" class=\"data row13 col3\" >0.958</td>\n",
              "      <td id=\"T_1f658_row13_col4\" class=\"data row13 col4\" >0.901</td>\n",
              "    </tr>\n",
              "    <tr>\n",
              "      <th id=\"T_1f658_level0_row14\" class=\"row_heading level0 row14\" >14</th>\n",
              "      <td id=\"T_1f658_row14_col0\" class=\"data row14 col0\" >DT, XGB, GPC, GBC</td>\n",
              "      <td id=\"T_1f658_row14_col1\" class=\"data row14 col1\" >0.917</td>\n",
              "      <td id=\"T_1f658_row14_col2\" class=\"data row14 col2\" >0.852</td>\n",
              "      <td id=\"T_1f658_row14_col3\" class=\"data row14 col3\" >0.972</td>\n",
              "      <td id=\"T_1f658_row14_col4\" class=\"data row14 col4\" >0.908</td>\n",
              "    </tr>\n",
              "    <tr>\n",
              "      <th id=\"T_1f658_level0_row15\" class=\"row_heading level0 row15\" >15</th>\n",
              "      <td id=\"T_1f658_row15_col0\" class=\"data row15 col0\" >GNB, DT, XGB, GPC, GBC</td>\n",
              "      <td id=\"T_1f658_row15_col1\" class=\"data row15 col1\" >0.911</td>\n",
              "      <td id=\"T_1f658_row15_col2\" class=\"data row15 col2\" >0.850</td>\n",
              "      <td id=\"T_1f658_row15_col3\" class=\"data row15 col3\" >0.958</td>\n",
              "      <td id=\"T_1f658_row15_col4\" class=\"data row15 col4\" >0.901</td>\n",
              "    </tr>\n",
              "  </tbody>\n",
              "</table>\n"
            ]
          },
          "metadata": {},
          "execution_count": 21
        }
      ]
    },
    {
      "cell_type": "code",
      "source": [
        "stk_resultss"
      ],
      "metadata": {
        "colab": {
          "base_uri": "https://localhost:8080/",
          "height": 551
        },
        "id": "qyFz1YuP2yyo",
        "outputId": "18ba4de7-48f7-48db-8307-3c6a77f91417"
      },
      "execution_count": 22,
      "outputs": [
        {
          "output_type": "execute_result",
          "data": {
            "text/plain": [
              "                Classifier  TP  FP FN  TN\n",
              "0             GNB, DT, XGB  85  12  3  68\n",
              "1             GNB, DT, GPC  85  12  3  68\n",
              "2             GNB, DT, GBC  85  12  3  68\n",
              "3            GNB, XGB, GPC  86  11  3  68\n",
              "4            GNB, XGB, GBC  86  11  3  68\n",
              "5            GNB, GPC, GBC  85  12  3  68\n",
              "6             DT, XGB, GPC  85  12  3  68\n",
              "7             DT, XGB, GBC  85  12  2  69\n",
              "8             DT, GPC, GBC  85  12  2  69\n",
              "9            XGB, GPC, GBC  85  12  3  68\n",
              "10       GNB, DT, XGB, GPC  85  12  3  68\n",
              "11       GNB, DT, XGB, GBC  85  12  3  68\n",
              "12       GNB, DT, GPC, GBC  85  12  3  68\n",
              "13      GNB, XGB, GPC, GBC  85  12  3  68\n",
              "14       DT, XGB, GPC, GBC  85  12  2  69\n",
              "15  GNB, DT, XGB, GPC, GBC  85  12  3  68"
            ],
            "text/html": [
              "\n",
              "\n",
              "  <div id=\"df-c94c619a-4887-4f72-88a1-7559c056e6ea\">\n",
              "    <div class=\"colab-df-container\">\n",
              "      <div>\n",
              "<style scoped>\n",
              "    .dataframe tbody tr th:only-of-type {\n",
              "        vertical-align: middle;\n",
              "    }\n",
              "\n",
              "    .dataframe tbody tr th {\n",
              "        vertical-align: top;\n",
              "    }\n",
              "\n",
              "    .dataframe thead th {\n",
              "        text-align: right;\n",
              "    }\n",
              "</style>\n",
              "<table border=\"1\" class=\"dataframe\">\n",
              "  <thead>\n",
              "    <tr style=\"text-align: right;\">\n",
              "      <th></th>\n",
              "      <th>Classifier</th>\n",
              "      <th>TP</th>\n",
              "      <th>FP</th>\n",
              "      <th>FN</th>\n",
              "      <th>TN</th>\n",
              "    </tr>\n",
              "  </thead>\n",
              "  <tbody>\n",
              "    <tr>\n",
              "      <th>0</th>\n",
              "      <td>GNB, DT, XGB</td>\n",
              "      <td>85</td>\n",
              "      <td>12</td>\n",
              "      <td>3</td>\n",
              "      <td>68</td>\n",
              "    </tr>\n",
              "    <tr>\n",
              "      <th>1</th>\n",
              "      <td>GNB, DT, GPC</td>\n",
              "      <td>85</td>\n",
              "      <td>12</td>\n",
              "      <td>3</td>\n",
              "      <td>68</td>\n",
              "    </tr>\n",
              "    <tr>\n",
              "      <th>2</th>\n",
              "      <td>GNB, DT, GBC</td>\n",
              "      <td>85</td>\n",
              "      <td>12</td>\n",
              "      <td>3</td>\n",
              "      <td>68</td>\n",
              "    </tr>\n",
              "    <tr>\n",
              "      <th>3</th>\n",
              "      <td>GNB, XGB, GPC</td>\n",
              "      <td>86</td>\n",
              "      <td>11</td>\n",
              "      <td>3</td>\n",
              "      <td>68</td>\n",
              "    </tr>\n",
              "    <tr>\n",
              "      <th>4</th>\n",
              "      <td>GNB, XGB, GBC</td>\n",
              "      <td>86</td>\n",
              "      <td>11</td>\n",
              "      <td>3</td>\n",
              "      <td>68</td>\n",
              "    </tr>\n",
              "    <tr>\n",
              "      <th>5</th>\n",
              "      <td>GNB, GPC, GBC</td>\n",
              "      <td>85</td>\n",
              "      <td>12</td>\n",
              "      <td>3</td>\n",
              "      <td>68</td>\n",
              "    </tr>\n",
              "    <tr>\n",
              "      <th>6</th>\n",
              "      <td>DT, XGB, GPC</td>\n",
              "      <td>85</td>\n",
              "      <td>12</td>\n",
              "      <td>3</td>\n",
              "      <td>68</td>\n",
              "    </tr>\n",
              "    <tr>\n",
              "      <th>7</th>\n",
              "      <td>DT, XGB, GBC</td>\n",
              "      <td>85</td>\n",
              "      <td>12</td>\n",
              "      <td>2</td>\n",
              "      <td>69</td>\n",
              "    </tr>\n",
              "    <tr>\n",
              "      <th>8</th>\n",
              "      <td>DT, GPC, GBC</td>\n",
              "      <td>85</td>\n",
              "      <td>12</td>\n",
              "      <td>2</td>\n",
              "      <td>69</td>\n",
              "    </tr>\n",
              "    <tr>\n",
              "      <th>9</th>\n",
              "      <td>XGB, GPC, GBC</td>\n",
              "      <td>85</td>\n",
              "      <td>12</td>\n",
              "      <td>3</td>\n",
              "      <td>68</td>\n",
              "    </tr>\n",
              "    <tr>\n",
              "      <th>10</th>\n",
              "      <td>GNB, DT, XGB, GPC</td>\n",
              "      <td>85</td>\n",
              "      <td>12</td>\n",
              "      <td>3</td>\n",
              "      <td>68</td>\n",
              "    </tr>\n",
              "    <tr>\n",
              "      <th>11</th>\n",
              "      <td>GNB, DT, XGB, GBC</td>\n",
              "      <td>85</td>\n",
              "      <td>12</td>\n",
              "      <td>3</td>\n",
              "      <td>68</td>\n",
              "    </tr>\n",
              "    <tr>\n",
              "      <th>12</th>\n",
              "      <td>GNB, DT, GPC, GBC</td>\n",
              "      <td>85</td>\n",
              "      <td>12</td>\n",
              "      <td>3</td>\n",
              "      <td>68</td>\n",
              "    </tr>\n",
              "    <tr>\n",
              "      <th>13</th>\n",
              "      <td>GNB, XGB, GPC, GBC</td>\n",
              "      <td>85</td>\n",
              "      <td>12</td>\n",
              "      <td>3</td>\n",
              "      <td>68</td>\n",
              "    </tr>\n",
              "    <tr>\n",
              "      <th>14</th>\n",
              "      <td>DT, XGB, GPC, GBC</td>\n",
              "      <td>85</td>\n",
              "      <td>12</td>\n",
              "      <td>2</td>\n",
              "      <td>69</td>\n",
              "    </tr>\n",
              "    <tr>\n",
              "      <th>15</th>\n",
              "      <td>GNB, DT, XGB, GPC, GBC</td>\n",
              "      <td>85</td>\n",
              "      <td>12</td>\n",
              "      <td>3</td>\n",
              "      <td>68</td>\n",
              "    </tr>\n",
              "  </tbody>\n",
              "</table>\n",
              "</div>\n",
              "      <button class=\"colab-df-convert\" onclick=\"convertToInteractive('df-c94c619a-4887-4f72-88a1-7559c056e6ea')\"\n",
              "              title=\"Convert this dataframe to an interactive table.\"\n",
              "              style=\"display:none;\">\n",
              "\n",
              "  <svg xmlns=\"http://www.w3.org/2000/svg\" height=\"24px\"viewBox=\"0 0 24 24\"\n",
              "       width=\"24px\">\n",
              "    <path d=\"M0 0h24v24H0V0z\" fill=\"none\"/>\n",
              "    <path d=\"M18.56 5.44l.94 2.06.94-2.06 2.06-.94-2.06-.94-.94-2.06-.94 2.06-2.06.94zm-11 1L8.5 8.5l.94-2.06 2.06-.94-2.06-.94L8.5 2.5l-.94 2.06-2.06.94zm10 10l.94 2.06.94-2.06 2.06-.94-2.06-.94-.94-2.06-.94 2.06-2.06.94z\"/><path d=\"M17.41 7.96l-1.37-1.37c-.4-.4-.92-.59-1.43-.59-.52 0-1.04.2-1.43.59L10.3 9.45l-7.72 7.72c-.78.78-.78 2.05 0 2.83L4 21.41c.39.39.9.59 1.41.59.51 0 1.02-.2 1.41-.59l7.78-7.78 2.81-2.81c.8-.78.8-2.07 0-2.86zM5.41 20L4 18.59l7.72-7.72 1.47 1.35L5.41 20z\"/>\n",
              "  </svg>\n",
              "      </button>\n",
              "\n",
              "\n",
              "\n",
              "    <div id=\"df-a09126aa-d841-48af-b56e-ac473e30d584\">\n",
              "      <button class=\"colab-df-quickchart\" onclick=\"quickchart('df-a09126aa-d841-48af-b56e-ac473e30d584')\"\n",
              "              title=\"Suggest charts.\"\n",
              "              style=\"display:none;\">\n",
              "\n",
              "<svg xmlns=\"http://www.w3.org/2000/svg\" height=\"24px\"viewBox=\"0 0 24 24\"\n",
              "     width=\"24px\">\n",
              "    <g>\n",
              "        <path d=\"M19 3H5c-1.1 0-2 .9-2 2v14c0 1.1.9 2 2 2h14c1.1 0 2-.9 2-2V5c0-1.1-.9-2-2-2zM9 17H7v-7h2v7zm4 0h-2V7h2v10zm4 0h-2v-4h2v4z\"/>\n",
              "    </g>\n",
              "</svg>\n",
              "      </button>\n",
              "    </div>\n",
              "\n",
              "<style>\n",
              "  .colab-df-quickchart {\n",
              "    background-color: #E8F0FE;\n",
              "    border: none;\n",
              "    border-radius: 50%;\n",
              "    cursor: pointer;\n",
              "    display: none;\n",
              "    fill: #1967D2;\n",
              "    height: 32px;\n",
              "    padding: 0 0 0 0;\n",
              "    width: 32px;\n",
              "  }\n",
              "\n",
              "  .colab-df-quickchart:hover {\n",
              "    background-color: #E2EBFA;\n",
              "    box-shadow: 0px 1px 2px rgba(60, 64, 67, 0.3), 0px 1px 3px 1px rgba(60, 64, 67, 0.15);\n",
              "    fill: #174EA6;\n",
              "  }\n",
              "\n",
              "  [theme=dark] .colab-df-quickchart {\n",
              "    background-color: #3B4455;\n",
              "    fill: #D2E3FC;\n",
              "  }\n",
              "\n",
              "  [theme=dark] .colab-df-quickchart:hover {\n",
              "    background-color: #434B5C;\n",
              "    box-shadow: 0px 1px 3px 1px rgba(0, 0, 0, 0.15);\n",
              "    filter: drop-shadow(0px 1px 2px rgba(0, 0, 0, 0.3));\n",
              "    fill: #FFFFFF;\n",
              "  }\n",
              "</style>\n",
              "\n",
              "    <script>\n",
              "      async function quickchart(key) {\n",
              "        const containerElement = document.querySelector('#' + key);\n",
              "        const charts = await google.colab.kernel.invokeFunction(\n",
              "            'suggestCharts', [key], {});\n",
              "      }\n",
              "    </script>\n",
              "\n",
              "      <script>\n",
              "\n",
              "function displayQuickchartButton(domScope) {\n",
              "  let quickchartButtonEl =\n",
              "    domScope.querySelector('#df-a09126aa-d841-48af-b56e-ac473e30d584 button.colab-df-quickchart');\n",
              "  quickchartButtonEl.style.display =\n",
              "    google.colab.kernel.accessAllowed ? 'block' : 'none';\n",
              "}\n",
              "\n",
              "        displayQuickchartButton(document);\n",
              "      </script>\n",
              "      <style>\n",
              "    .colab-df-container {\n",
              "      display:flex;\n",
              "      flex-wrap:wrap;\n",
              "      gap: 12px;\n",
              "    }\n",
              "\n",
              "    .colab-df-convert {\n",
              "      background-color: #E8F0FE;\n",
              "      border: none;\n",
              "      border-radius: 50%;\n",
              "      cursor: pointer;\n",
              "      display: none;\n",
              "      fill: #1967D2;\n",
              "      height: 32px;\n",
              "      padding: 0 0 0 0;\n",
              "      width: 32px;\n",
              "    }\n",
              "\n",
              "    .colab-df-convert:hover {\n",
              "      background-color: #E2EBFA;\n",
              "      box-shadow: 0px 1px 2px rgba(60, 64, 67, 0.3), 0px 1px 3px 1px rgba(60, 64, 67, 0.15);\n",
              "      fill: #174EA6;\n",
              "    }\n",
              "\n",
              "    [theme=dark] .colab-df-convert {\n",
              "      background-color: #3B4455;\n",
              "      fill: #D2E3FC;\n",
              "    }\n",
              "\n",
              "    [theme=dark] .colab-df-convert:hover {\n",
              "      background-color: #434B5C;\n",
              "      box-shadow: 0px 1px 3px 1px rgba(0, 0, 0, 0.15);\n",
              "      filter: drop-shadow(0px 1px 2px rgba(0, 0, 0, 0.3));\n",
              "      fill: #FFFFFF;\n",
              "    }\n",
              "  </style>\n",
              "\n",
              "      <script>\n",
              "        const buttonEl =\n",
              "          document.querySelector('#df-c94c619a-4887-4f72-88a1-7559c056e6ea button.colab-df-convert');\n",
              "        buttonEl.style.display =\n",
              "          google.colab.kernel.accessAllowed ? 'block' : 'none';\n",
              "\n",
              "        async function convertToInteractive(key) {\n",
              "          const element = document.querySelector('#df-c94c619a-4887-4f72-88a1-7559c056e6ea');\n",
              "          const dataTable =\n",
              "            await google.colab.kernel.invokeFunction('convertToInteractive',\n",
              "                                                     [key], {});\n",
              "          if (!dataTable) return;\n",
              "\n",
              "          const docLinkHtml = 'Like what you see? Visit the ' +\n",
              "            '<a target=\"_blank\" href=https://colab.research.google.com/notebooks/data_table.ipynb>data table notebook</a>'\n",
              "            + ' to learn more about interactive tables.';\n",
              "          element.innerHTML = '';\n",
              "          dataTable['output_type'] = 'display_data';\n",
              "          await google.colab.output.renderOutput(dataTable, element);\n",
              "          const docLink = document.createElement('div');\n",
              "          docLink.innerHTML = docLinkHtml;\n",
              "          element.appendChild(docLink);\n",
              "        }\n",
              "      </script>\n",
              "    </div>\n",
              "  </div>\n"
            ]
          },
          "metadata": {},
          "execution_count": 22
        }
      ]
    },
    {
      "cell_type": "code",
      "source": [
        "from sklearn.ensemble import BaggingClassifier\n",
        "from sklearn.model_selection import train_test_split\n",
        "from sklearn.tree import DecisionTreeClassifier\n",
        "from sklearn.metrics import accuracy_score\n",
        "from sklearn.neighbors import KNeighborsClassifier\n",
        "from sklearn.ensemble import RandomForestClassifier\n",
        "\n",
        "\n",
        "# Define the base classifier\n",
        "base_classifiers = RandomForestClassifier()\n",
        "\n",
        "# Create the bagging classifier\n",
        "bagging_clf = BaggingClassifier(base_estimator=base_classifiers, n_estimators=10, random_state=42)\n",
        "\n",
        "# Train the bagging classifier on the training data\n",
        "bagging_clf.fit(X_train_resampled, y_train_resampled)\n",
        "\n",
        "# Make predictions on the test set\n",
        "y_pred = bagging_clf.predict(X_test)\n",
        "\n",
        "# Evaluate the ensemble's performance\n",
        "accuracy = accuracy_score(y_test, y_pred)\n",
        "print(\"Ensemble Accuracy:\", accuracy)\n"
      ],
      "metadata": {
        "colab": {
          "base_uri": "https://localhost:8080/"
        },
        "id": "ADiwcTXV5zsj",
        "outputId": "3d63dcbe-a9e1-443b-8e92-783425b6c3e7"
      },
      "execution_count": 23,
      "outputs": [
        {
          "output_type": "stream",
          "name": "stdout",
          "text": [
            "Ensemble Accuracy: 0.9107142857142857\n"
          ]
        }
      ]
    },
    {
      "cell_type": "code",
      "source": [
        "from sklearn.ensemble import AdaBoostClassifier\n",
        "import xgboost as xgb\n",
        "\n",
        "# Define the base classifier\n",
        "base_classifier = RandomForestClassifier()\n",
        "\n",
        "\n",
        "# Create the AdaBoost classifier\n",
        "adaboost_clf = AdaBoostClassifier(base_classifier, n_estimators=50, random_state=42)\n",
        "\n",
        "# Train the AdaBoost classifier on the training data\n",
        "adaboost_clf.fit(X_train_resampled, y_train_resampled)\n",
        "\n",
        "# Make predictions on the test set\n",
        "y_pred = adaboost_clf.predict(X_test)\n",
        "\n",
        "# Evaluate the ensemble's performance\n",
        "accuracy = accuracy_score(y_test, y_pred)\n",
        "print(\"Ensemble Accuracy:\", accuracy)"
      ],
      "metadata": {
        "colab": {
          "base_uri": "https://localhost:8080/"
        },
        "id": "A9leqB8SGUBn",
        "outputId": "94a7d2dd-c677-461e-ce83-7b2b9a6d6bbf"
      },
      "execution_count": 26,
      "outputs": [
        {
          "output_type": "stream",
          "name": "stdout",
          "text": [
            "Ensemble Accuracy: 0.875\n"
          ]
        }
      ]
    }
  ],
  "metadata": {
    "colab": {
      "provenance": []
    },
    "kernelspec": {
      "display_name": "Python 3",
      "name": "python3"
    },
    "language_info": {
      "name": "python"
    }
  },
  "nbformat": 4,
  "nbformat_minor": 0
}